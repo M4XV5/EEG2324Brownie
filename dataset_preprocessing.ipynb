{
 "cells": [
  {
   "cell_type": "markdown",
   "metadata": {
    "collapsed": false,
    "jupyter": {
     "outputs_hidden": false
    }
   },
   "source": [
    "1. We are removing the first **n** trials for every cue in every casino. This ensures that the participants are able to learn the pattern of every slot as we want to measure how the RewP changes in different average task values. For that the participants have to learn first what the average task value is of every slot.\n",
    "2. We are removing participants that do not manage to get **threshold** of the learnable trials correct, i.e. choosing the lever with the higher win probability. Thus, we assume that participants did not truly care about the reward. As we want to measure the RewP in different averaging task values, this requires participants to truly want to win corresponding to dopamine release on a win."
   ]
  },
  {
   "cell_type": "code",
   "execution_count": 22,
   "metadata": {
    "collapsed": false,
    "jupyter": {
     "outputs_hidden": false
    }
   },
   "outputs": [
    {
     "name": "stdout",
     "output_type": "stream",
     "text": [
      "Behavioral file for .git does not exist.\n",
      "Behavioral file for code does not exist.\n"
     ]
    }
   ],
   "source": [
    "import os\n",
    "import pandas as pd\n",
    "\n",
    "# HYPERPARAMS\n",
    "n = 4\n",
    "threshold = 0.7\n",
    "\n",
    "subjects_dir = 'Dataset/ds004147'\n",
    "subject_dirs = [d for d in os.listdir(subjects_dir) if os.path.isdir(os.path.join(subjects_dir, d))]\n",
    "\n",
    "for subject_dir in subject_dirs:\n",
    "    beh_file_path = os.path.join(subjects_dir, subject_dir, 'beh', f'{subject_dir}_task-casinos_beh.tsv')\n",
    "\n",
    "    if os.path.exists(beh_file_path):\n",
    "        df = pd.read_csv(beh_file_path, sep='\\t')\n",
    "        df_sorted = df.sort_values(by=['cue', 'block'])\n",
    "        # remove the first four trials for every cue and block\n",
    "        filtered_df = df_sorted.groupby(['cue', 'block']).apply(lambda x: x.iloc[4:]).reset_index(drop=True)\n",
    "        # aggregate learnable trials and mark participants that did not meet the threshold\n",
    "        learnable_trials = filtered_df[filtered_df['prob'] == 80]\n",
    "        correct_choices = learnable_trials['outcome'] == learnable_trials['optimal']\n",
    "        success_rate = correct_choices.mean()\n",
    "        threshold_met = success_rate >= threshold\n",
    "        if threshold_met:\n",
    "            filtered_df.to_csv(os.path.join(subjects_dir, subject_dir, 'beh', f'{subject_dir}_task-casinos_beh_filtered.tsv'), sep='\\t', index=False)\n",
    "        else:\n",
    "            filtered_df.to_csv(os.path.join(subjects_dir, subject_dir, 'beh', f'{subject_dir}_REJECT_task-casinos_beh_filtered.tsv'), sep='\\t', index=False)\n",
    "    else:\n",
    "        print(f'Behavioral file for {subject_dir} does not exist.')"
   ]
  }
 ],
 "metadata": {
  "kernelspec": {
   "display_name": "Python 3 (ipykernel)",
   "language": "python",
   "name": "python3"
  },
  "language_info": {
   "codemirror_mode": {
    "name": "ipython",
    "version": 3
   },
   "file_extension": ".py",
   "mimetype": "text/x-python",
   "name": "python",
   "nbconvert_exporter": "python",
   "pygments_lexer": "ipython3",
   "version": "3.10.13"
  }
 },
 "nbformat": 4,
 "nbformat_minor": 4
}
