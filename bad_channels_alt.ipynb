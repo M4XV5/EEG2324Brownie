{
 "cells": [
  {
   "cell_type": "markdown",
   "metadata": {},
   "source": [
    "https://mne.tools/mne-bids/dev/auto_examples/mark_bad_channels.html"
   ]
  },
  {
   "cell_type": "code",
   "execution_count": 1,
   "metadata": {},
   "outputs": [],
   "source": [
    "import os.path as op\n",
    "import shutil\n",
    "\n",
    "import mne\n",
    "\n",
    "from mne_bids import (\n",
    "    BIDSPath,\n",
    "    inspect_dataset,\n",
    "    mark_channels,\n",
    "    read_raw_bids,\n",
    "    write_raw_bids,\n",
    ")"
   ]
  },
  {
   "cell_type": "code",
   "execution_count": null,
   "metadata": {},
   "outputs": [],
   "source": [
    "# write data in BIDS format\n",
    "\n",
    "data_path = \"Dataset\\ds004147\\derivatives\\mne-bids-pipeline\"\n",
    "raw_fname = op.join(data_path, \"MEG\", \"sample\", \"sample_audvis_raw.fif\")\n",
    "events_fname = op.join(data_path, \"MEG\", \"sample\", \"sample_audvis_raw-eve.fif\")\n",
    "event_id = {\n",
    "    \"Auditory/Left\": 1,\n",
    "    \"Auditory/Right\": 2,\n",
    "    \"Visual/Left\": 3,\n",
    "    \"Visual/Right\": 4,\n",
    "    \"Smiley\": 5,\n",
    "    \"Button\": 32,\n",
    "}\n",
    "bids_root = op.join(data_path, \"..\", \"MNE-sample-data-bids\")\n",
    "bids_path = BIDSPath(\n",
    "    subject=\"01\", session=\"01\", task=\"audiovisual\", run=\"01\", root=bids_root\n",
    ")\n"
   ]
  },
  {
   "cell_type": "code",
   "execution_count": null,
   "metadata": {},
   "outputs": [],
   "source": [
    "# delete previous runs (commented out for now)\n",
    "# if op.exists(bids_root):\n",
    "#     shutil.rmtree(bids_root)"
   ]
  },
  {
   "cell_type": "code",
   "execution_count": null,
   "metadata": {},
   "outputs": [],
   "source": [
    "# write raw data to BIDS\n",
    "\n",
    "raw = mne.io.read_raw_fif(raw_fname, verbose=False)\n",
    "raw.info[\"line_freq\"] = 60  # Specify power line frequency as required by BIDS.\n",
    "write_raw_bids(\n",
    "    raw,\n",
    "    bids_path=bids_path,\n",
    "    events=events_fname,\n",
    "    event_id=event_id,\n",
    "    overwrite=True,\n",
    "    verbose=False,\n",
    ")"
   ]
  },
  {
   "cell_type": "code",
   "execution_count": null,
   "metadata": {},
   "outputs": [],
   "source": [
    "# interactive inspection\n",
    "inspect_dataset(bids_path)"
   ]
  },
  {
   "cell_type": "code",
   "execution_count": null,
   "metadata": {},
   "outputs": [],
   "source": [
    "# filtering the data\n",
    "inspect_dataset(bids_path, l_freq=1.0, h_freq=30.0)"
   ]
  },
  {
   "cell_type": "code",
   "execution_count": null,
   "metadata": {},
   "outputs": [],
   "source": []
  }
 ],
 "metadata": {
  "kernelspec": {
   "display_name": "Python 3 (ipykernel)",
   "language": "python",
   "name": "python3"
  }
 },
 "nbformat": 4,
 "nbformat_minor": 2
}
