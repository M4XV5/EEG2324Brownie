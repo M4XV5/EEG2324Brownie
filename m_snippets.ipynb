{
 "cells": [
  {
   "cell_type": "code",
   "execution_count": null,
   "metadata": {},
   "outputs": [],
   "source": [
    "import os\n",
    "import numpy as np\n",
    "import mne\n",
    "%matplotlib qt\n",
    "import matplotlib\n",
    "import matplotlib.pyplot as plt"
   ]
  },
  {
   "cell_type": "code",
   "execution_count": null,
   "metadata": {
    "scrolled": true
   },
   "outputs": [],
   "source": [
    "from mne_bids import (BIDSPath,read_raw_bids)\n",
    "bids_root = \"Dataset/ds004147-filtered\"\n",
    "\n",
    "bids_path = BIDSPath(task=\"casinos\",\n",
    "                     datatype='eeg', suffix='eeg',\n",
    "                     root=bids_root)"
   ]
  },
  {
   "cell_type": "markdown",
   "metadata": {},
   "source": [
    "# win/loss waveforms plot"
   ]
  },
  {
   "cell_type": "code",
   "execution_count": null,
   "metadata": {},
   "outputs": [],
   "source": [
    "# evoked - loading and grand averages + plotting\n",
    "\n",
    "derivs_path = bids_root+\"/derivatives/mne-bids-pipeline/\"#\"Dataset/ds004147-filtered-update/\"\n",
    "\n",
    "evoked_ave_all = []\n",
    "\n",
    "# contrasts between win and loss for each task-cue combination\n",
    "cond_list = [ \n",
    "    'Win LL',\n",
    "    'Loss LL',\n",
    "    'Win ML',\n",
    "    'Loss ML',\n",
    "    'Win MH',\n",
    "    'Loss MH',\n",
    "    'Win HH',\n",
    "    'Loss HH'\n",
    "]\n",
    "\n",
    "sub_list = [\"27\",\"28\",\"29\",\"30\",\"31\",\"32\",\"33\",\"34\",\"35\",\"36\",\"37\",\"38\"]\n",
    "grand_avgs = []\n",
    "\n",
    "# for each condition (task-cue combination), create a list of evoked responses across all subjects and then average\n",
    "for i in range(0,len(cond_list)):\n",
    "    for sub in sub_list:\n",
    "        evoked_ave_all.append([])\n",
    "        evoked_ave_all[i].append(mne.Evoked(derivs_path+\"sub-\"+sub+\"/eeg/sub-\"+sub+\"_task-casinos_ave.fif\",proj=False,verbose=False,condition=cond_list[i]))\n",
    "    \n",
    "    # for this condition, average across subjects\n",
    "    grand_avgs.append(mne.grand_average(evoked_ave_all[i])) \n",
    "\n",
    "    # name of the condition/difference curve, so that it shows up in the plot\n",
    "    grand_avgs[i].comment=cond_list[i] \n",
    "\n",
    "mne.viz.plot_compare_evokeds(\n",
    "    grand_avgs,\n",
    "    combine=\"mean\", # average erp across channels\n",
    "    picks=\"FCz\", # if we want to see only FCz\n",
    "    colors=\n",
    "         {'Win LL':'r',\n",
    "         'Win ML':'r',\n",
    "         'Win MH':'r',\n",
    "         'Win HH':'r',\n",
    "         'Loss LL':'b',\n",
    "         'Loss ML':'b',\n",
    "         'Loss MH':'b',\n",
    "         'Loss HH':'b'},\n",
    "    linestyles=\n",
    "         {'Win LL':'solid',\n",
    "         'Win ML':'dashed',\n",
    "         'Win MH':'dashdot',\n",
    "         'Win HH':'dotted',\n",
    "         'Loss LL':'solid',\n",
    "         'Loss ML':'dashed',\n",
    "         'Loss MH':'dashdot',\n",
    "         'Loss HH':'dotted'},\n",
    "    ylim=dict(eeg=[-5, 20]),\n",
    "    title=('sub: ',sub_list),\n",
    "    time_unit=\"ms\",\n",
    ")"
   ]
  },
  {
   "cell_type": "markdown",
   "metadata": {},
   "source": [
    "# difference waveforms plot"
   ]
  },
  {
   "cell_type": "code",
   "execution_count": null,
   "metadata": {},
   "outputs": [],
   "source": [
    "# evoked - loading and grand averages + plotting\n",
    "\n",
    "derivs_path = bids_root+\"/derivatives/mne-bids-pipeline/\"#\"Dataset/ds004147-filtered-update/\"\n",
    "\n",
    "evoked_ave_all = []\n",
    "\n",
    "# contrasts between win and loss for each task-cue combination\n",
    "cond_list = [ \n",
    "    'Win LL - Loss LL',\n",
    "    'Win ML - Loss ML',\n",
    "    'Win MH - Loss MH',\n",
    "    'Win HH - Loss HH'\n",
    "]\n",
    "\n",
    "sub_list = [\"27\",\"28\",\"29\",\"30\",\"31\",\"32\",\"33\",\"34\",\"35\",\"36\",\"37\",\"38\"]\n",
    "grand_avgs = []\n",
    "\n",
    "# for each condition (task-cue combination), create a list of evoked responses across all subjects and then average\n",
    "for i in range(0,len(cond_list)):\n",
    "    # print(i)\n",
    "    for sub in sub_list:\n",
    "        evoked_ave_all.append([])\n",
    "        evoked_ave_all[i].append(mne.Evoked(derivs_path+\"sub-\"+sub+\"/eeg/sub-\"+sub+\"_task-casinos_ave.fif\",proj=False,verbose=False,condition=cond_list[i]))\n",
    "    \n",
    "    # for this condition, average across subjects\n",
    "    grand_avgs.append(mne.grand_average(evoked_ave_all[i])) \n",
    "\n",
    "    # name of the condition/difference curve, so that it shows up in the plot\n",
    "    grand_avgs[i].comment=cond_list[i] \n",
    "\n",
    "mne.viz.plot_compare_evokeds(\n",
    "    grand_avgs,\n",
    "    combine=\"mean\", # average erp across channels\n",
    "    picks=\"FCz\", # if we want to see only FCz\n",
    "    colors=['#EE82EE','#EE82EE','#a020f0','#a020f0'],\n",
    "    linestyles=['solid','dashed','dotted','dashdot'],\n",
    "    ylim=dict(eeg=[-5, 10]),\n",
    "    title=('sub: ',sub_list),\n",
    "    time_unit=\"ms\",\n",
    ")"
   ]
  }
 ],
 "metadata": {
  "kernelspec": {
   "display_name": "Python 3 (ipykernel)",
   "language": "python",
   "name": "python3"
  },
  "language_info": {
   "codemirror_mode": {
    "name": "ipython",
    "version": 3
   },
   "file_extension": ".py",
   "mimetype": "text/x-python",
   "name": "python",
   "nbconvert_exporter": "python",
   "pygments_lexer": "ipython3",
   "version": "3.11.1"
  }
 },
 "nbformat": 4,
 "nbformat_minor": 4
}
