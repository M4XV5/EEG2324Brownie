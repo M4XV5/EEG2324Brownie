{
 "cells": [
  {
   "cell_type": "code",
   "execution_count": null,
   "metadata": {},
   "outputs": [],
   "source": [
    "import os\n",
    "import numpy as np\n",
    "import mne\n",
    "%matplotlib qt\n",
    "import matplotlib\n",
    "import matplotlib.pyplot as plt\n",
    "\n"
   ]
  },
  {
   "cell_type": "code",
   "execution_count": null,
   "metadata": {
    "scrolled": true
   },
   "outputs": [],
   "source": [
    "from mne_bids import (BIDSPath,read_raw_bids)\n",
    "bids_root = \"Dataset/ds004147-filtered\"\n",
    "\n",
    "bids_path = BIDSPath(task=\"casinos\",\n",
    "                     datatype='eeg', suffix='eeg',\n",
    "                     root=bids_root)"
   ]
  },
  {
   "cell_type": "markdown",
   "metadata": {},
   "source": [
    "# win/loss waveforms plot"
   ]
  },
  {
   "cell_type": "code",
   "execution_count": null,
   "metadata": {},
   "outputs": [],
   "source": [
    "# evoked - loading and grand averages + plotting\n",
    "\n",
    "derivs_path = bids_root+\"/derivatives/mne-bids-pipeline/\"#\"Dataset/ds004147-filtered-update/\"\n",
    "\n",
    "evoked_ave_all = []\n",
    "\n",
    "# contrasts between win and loss for each task-cue combination\n",
    "cond_list = [ \n",
    "    'Win LL',\n",
    "    'Loss LL',\n",
    "    'Win ML',\n",
    "    'Loss ML',\n",
    "    'Win MH',\n",
    "    'Loss MH',\n",
    "    'Win HH',\n",
    "    'Loss HH'\n",
    "]\n",
    "\n",
    "sub_list = [\"27\",\"28\",\"29\",\"30\",\"31\",\"32\",\"33\",\"34\",\"35\",\"36\",\"37\",\"38\"]\n",
    "grand_avgs = []\n",
    "\n",
    "# for each condition (task-cue combination), create a list of evoked responses across all subjects and then average\n",
    "for i in range(0,len(cond_list)):\n",
    "    for sub in sub_list:\n",
    "        evoked_ave_all.append([])\n",
    "        evoked_ave_all[i].append(mne.Evoked(derivs_path+\"sub-\"+sub+\"/eeg/sub-\"+sub+\"_task-casinos_ave.fif\",proj=False,verbose=False,condition=cond_list[i]))\n",
    "    \n",
    "    # for this condition, average across subjects\n",
    "    grand_avgs.append(mne.grand_average(evoked_ave_all[i])) \n",
    "\n",
    "    # name of the condition/difference curve, so that it shows up in the plot\n",
    "    grand_avgs[i].comment=cond_list[i] \n",
    "\n",
    "mne.viz.plot_compare_evokeds(\n",
    "    grand_avgs,\n",
    "    combine=\"mean\", # average erp across channels\n",
    "    picks=\"FCz\", # if we want to see only FCz\n",
    "    colors=\n",
    "         {'Win LL':'r',\n",
    "         'Win ML':'r',\n",
    "         'Win MH':'r',\n",
    "         'Win HH':'r',\n",
    "         'Loss LL':'b',\n",
    "         'Loss ML':'b',\n",
    "         'Loss MH':'b',\n",
    "         'Loss HH':'b'},\n",
    "    linestyles=\n",
    "         {'Win LL':'solid',\n",
    "         'Win ML':'dashed',\n",
    "         'Win MH':'dashdot',\n",
    "         'Win HH':'dotted',\n",
    "         'Loss LL':'solid',\n",
    "         'Loss ML':'dashed',\n",
    "         'Loss MH':'dashdot',\n",
    "         'Loss HH':'dotted'},\n",
    "    ylim=dict(eeg=[-5, 20]),\n",
    "    title=('sub: ',sub_list),\n",
    "    time_unit=\"ms\",\n",
    ")"
   ]
  },
  {
   "cell_type": "markdown",
   "metadata": {},
   "source": [
    "# difference waveforms plot"
   ]
  },
  {
   "cell_type": "code",
   "execution_count": null,
   "metadata": {},
   "outputs": [],
   "source": [
    "# evoked - loading and grand averages + plotting\n",
    "\n",
    "derivs_path = bids_root+\"/derivatives/mne-bids-pipeline/\"#\"Dataset/ds004147-filtered-update/\"\n",
    "\n",
    "evoked_ave_all = []\n",
    "\n",
    "# contrasts between win and loss for each task-cue combination\n",
    "cond_list = [ \n",
    "    'Win LL - Loss LL',\n",
    "    'Win ML - Loss ML',\n",
    "    'Win MH - Loss MH',\n",
    "    'Win HH - Loss HH'\n",
    "]\n",
    "\n",
    "sub_list = [\"27\",\"28\",\"29\",\"30\",\"31\",\"32\",\"33\",\"34\",\"35\",\"36\",\"37\",\"38\"]\n",
    "grand_avgs = []\n",
    "\n",
    "# for each condition (task-cue combination), create a list of evoked responses across all subjects and then average\n",
    "for i in range(0,len(cond_list)):\n",
    "    # print(i)\n",
    "    for sub in sub_list:\n",
    "        evoked_ave_all.append([])\n",
    "        evoked_ave_all[i].append(mne.Evoked(derivs_path+\"sub-\"+sub+\"/eeg/sub-\"+sub+\"_task-casinos_ave.fif\",proj=False,verbose=False,condition=cond_list[i]))\n",
    "    \n",
    "    # for this condition, average across subjects\n",
    "    grand_avgs.append(mne.grand_average(evoked_ave_all[i])) \n",
    "\n",
    "    # name of the condition/difference curve, so that it shows up in the plot\n",
    "    grand_avgs[i].comment=cond_list[i] \n",
    "\n",
    "mne.viz.plot_compare_evokeds(\n",
    "    grand_avgs,\n",
    "    combine=\"mean\", # average erp across channels\n",
    "    picks=\"FCz\", # if we want to see only FCz\n",
    "    colors=['#EE82EE','#EE82EE','#a020f0','#a020f0'],\n",
    "    linestyles=['solid','dashed','dotted','dashdot'],\n",
    "    ylim=dict(eeg=[-5, 10]),\n",
    "    title=('sub: ',sub_list),\n",
    "    time_unit=\"ms\",\n",
    ")"
   ]
  },
  {
   "cell_type": "code",
   "execution_count": 1,
   "metadata": {},
   "outputs": [
    {
     "name": "stdout",
     "output_type": "stream",
     "text": [
      "Identifying common channels ...\n"
     ]
    },
    {
     "name": "stderr",
     "output_type": "stream",
     "text": [
      "Warning: Ignoring XDG_SESSION_TYPE=wayland on Gnome. Use QT_QPA_PLATFORM=wayland to run on Wayland anyway.\n",
      "/media/mnk/Delta/AAUniStuttgart/A Sem 3/EEG/EEG2324Brownie/utils.py:150: RuntimeWarning: Only 1 channel in \"picks\"; cannot combine by method \"mean\".\n",
      "  return mne.viz.plot_compare_evokeds(\n"
     ]
    },
    {
     "ename": "ValueError",
     "evalue": "If \"colors\" is a dict its keys (['Stimulus/S  6', 'Stimulus/S  7']) must match the keys/conditions in \"evokeds\" (['Stimulus/S  6']).",
     "output_type": "error",
     "traceback": [
      "\u001b[0;31m---------------------------------------------------------------------------\u001b[0m",
      "\u001b[0;31mValueError\u001b[0m                                Traceback (most recent call last)",
      "Cell \u001b[0;32mIn[1], line 50\u001b[0m\n\u001b[1;32m      2\u001b[0m get_ipython()\u001b[38;5;241m.\u001b[39mrun_line_magic(\u001b[38;5;124m'\u001b[39m\u001b[38;5;124mmatplotlib\u001b[39m\u001b[38;5;124m'\u001b[39m, \u001b[38;5;124m'\u001b[39m\u001b[38;5;124mqt\u001b[39m\u001b[38;5;124m'\u001b[39m)\n\u001b[1;32m      4\u001b[0m \u001b[38;5;66;03m# fig_conditions = plot_avg_evokeds(\u001b[39;00m\n\u001b[1;32m      5\u001b[0m \u001b[38;5;66;03m#     sub_list=[\"27\",\"28\",\"29\",\"30\",\"31\",\"32\",\"33\",\"34\",\"35\",\"36\",\"37\",\"38\"],\u001b[39;00m\n\u001b[1;32m      6\u001b[0m \u001b[38;5;66;03m#     cond_list=[ \u001b[39;00m\n\u001b[0;32m   (...)\u001b[0m\n\u001b[1;32m     47\u001b[0m \u001b[38;5;66;03m#     linestyles=['solid','dashed','dotted','dashdot']\u001b[39;00m\n\u001b[1;32m     48\u001b[0m \u001b[38;5;66;03m#     )\u001b[39;00m\n\u001b[0;32m---> 50\u001b[0m fig_conditions \u001b[38;5;241m=\u001b[39m \u001b[43mplot_avg_evokeds\u001b[49m\u001b[43m(\u001b[49m\n\u001b[1;32m     51\u001b[0m \u001b[43m    \u001b[49m\u001b[43msub_list\u001b[49m\u001b[38;5;241;43m=\u001b[39;49m\u001b[43m[\u001b[49m\u001b[38;5;124;43m\"\u001b[39;49m\u001b[38;5;124;43m27\u001b[39;49m\u001b[38;5;124;43m\"\u001b[39;49m\u001b[43m,\u001b[49m\u001b[38;5;124;43m\"\u001b[39;49m\u001b[38;5;124;43m28\u001b[39;49m\u001b[38;5;124;43m\"\u001b[39;49m\u001b[43m,\u001b[49m\u001b[38;5;124;43m\"\u001b[39;49m\u001b[38;5;124;43m29\u001b[39;49m\u001b[38;5;124;43m\"\u001b[39;49m\u001b[43m,\u001b[49m\u001b[38;5;124;43m\"\u001b[39;49m\u001b[38;5;124;43m30\u001b[39;49m\u001b[38;5;124;43m\"\u001b[39;49m\u001b[43m,\u001b[49m\u001b[38;5;124;43m\"\u001b[39;49m\u001b[38;5;124;43m31\u001b[39;49m\u001b[38;5;124;43m\"\u001b[39;49m\u001b[43m,\u001b[49m\u001b[38;5;124;43m\"\u001b[39;49m\u001b[38;5;124;43m32\u001b[39;49m\u001b[38;5;124;43m\"\u001b[39;49m\u001b[43m,\u001b[49m\u001b[38;5;124;43m\"\u001b[39;49m\u001b[38;5;124;43m33\u001b[39;49m\u001b[38;5;124;43m\"\u001b[39;49m\u001b[43m,\u001b[49m\u001b[38;5;124;43m\"\u001b[39;49m\u001b[38;5;124;43m34\u001b[39;49m\u001b[38;5;124;43m\"\u001b[39;49m\u001b[43m,\u001b[49m\u001b[38;5;124;43m\"\u001b[39;49m\u001b[38;5;124;43m35\u001b[39;49m\u001b[38;5;124;43m\"\u001b[39;49m\u001b[43m,\u001b[49m\u001b[38;5;124;43m\"\u001b[39;49m\u001b[38;5;124;43m36\u001b[39;49m\u001b[38;5;124;43m\"\u001b[39;49m\u001b[43m,\u001b[49m\u001b[38;5;124;43m\"\u001b[39;49m\u001b[38;5;124;43m37\u001b[39;49m\u001b[38;5;124;43m\"\u001b[39;49m\u001b[43m,\u001b[49m\u001b[38;5;124;43m\"\u001b[39;49m\u001b[38;5;124;43m38\u001b[39;49m\u001b[38;5;124;43m\"\u001b[39;49m\u001b[43m]\u001b[49m\u001b[43m,\u001b[49m\n\u001b[1;32m     52\u001b[0m \u001b[43m    \u001b[49m\u001b[43mcond_list\u001b[49m\u001b[38;5;241;43m=\u001b[39;49m\u001b[43m[\u001b[49m\u001b[43m \u001b[49m\n\u001b[1;32m     53\u001b[0m \u001b[43m        \u001b[49m\u001b[38;5;124;43m'\u001b[39;49m\u001b[38;5;124;43mStimulus/S  6\u001b[39;49m\u001b[38;5;124;43m'\u001b[39;49m\u001b[43m,\u001b[49m\n\u001b[1;32m     54\u001b[0m \u001b[43m        \u001b[49m\u001b[38;5;124;43m'\u001b[39;49m\u001b[38;5;124;43mStimulus/S  7\u001b[39;49m\u001b[38;5;124;43m'\u001b[39;49m\n\u001b[1;32m     55\u001b[0m \u001b[43m    \u001b[49m\u001b[43m]\u001b[49m\u001b[43m,\u001b[49m\n\u001b[1;32m     56\u001b[0m \u001b[43m    \u001b[49m\u001b[43mcolors\u001b[49m\u001b[38;5;241;43m=\u001b[39;49m\u001b[43m{\u001b[49m\u001b[38;5;124;43m'\u001b[39;49m\u001b[38;5;124;43mStimulus/S  6\u001b[39;49m\u001b[38;5;124;43m'\u001b[39;49m\u001b[43m:\u001b[49m\u001b[38;5;124;43m'\u001b[39;49m\u001b[38;5;124;43mr\u001b[39;49m\u001b[38;5;124;43m'\u001b[39;49m\u001b[43m,\u001b[49m\n\u001b[1;32m     57\u001b[0m \u001b[43m         \u001b[49m\u001b[38;5;124;43m'\u001b[39;49m\u001b[38;5;124;43mStimulus/S  7\u001b[39;49m\u001b[38;5;124;43m'\u001b[39;49m\u001b[43m:\u001b[49m\u001b[38;5;124;43m'\u001b[39;49m\u001b[38;5;124;43mb\u001b[39;49m\u001b[38;5;124;43m'\u001b[39;49m\u001b[43m}\u001b[49m\u001b[43m,\u001b[49m\n\u001b[1;32m     58\u001b[0m \u001b[43m    \u001b[49m\u001b[43mlinestyles\u001b[49m\u001b[38;5;241;43m=\u001b[39;49m\u001b[43m{\u001b[49m\u001b[38;5;124;43m'\u001b[39;49m\u001b[38;5;124;43mStimulus/S  6\u001b[39;49m\u001b[38;5;124;43m'\u001b[39;49m\u001b[43m:\u001b[49m\u001b[38;5;124;43m'\u001b[39;49m\u001b[38;5;124;43msolid\u001b[39;49m\u001b[38;5;124;43m'\u001b[39;49m\u001b[43m,\u001b[49m\n\u001b[1;32m     59\u001b[0m \u001b[43m         \u001b[49m\u001b[38;5;124;43m'\u001b[39;49m\u001b[38;5;124;43mStimulus/S  7\u001b[39;49m\u001b[38;5;124;43m'\u001b[39;49m\u001b[43m:\u001b[49m\u001b[38;5;124;43m'\u001b[39;49m\u001b[38;5;124;43mdotted\u001b[39;49m\u001b[38;5;124;43m'\u001b[39;49m\u001b[43m}\u001b[49m\n\u001b[1;32m     60\u001b[0m \u001b[43m    \u001b[49m\u001b[43m)\u001b[49m\n",
      "File \u001b[0;32m/media/mnk/Delta/AAUniStuttgart/A Sem 3/EEG/EEG2324Brownie/utils.py:150\u001b[0m, in \u001b[0;36mplot_avg_evokeds\u001b[0;34m(sub_list, cond_list, colors, linestyles, bids_root)\u001b[0m\n\u001b[1;32m    147\u001b[0m \u001b[38;5;66;03m# name of the condition/difference curve, so that it shows up in the plot\u001b[39;00m\n\u001b[1;32m    148\u001b[0m grand_avgs[i]\u001b[38;5;241m.\u001b[39mcomment\u001b[38;5;241m=\u001b[39mcond_list[i] \n\u001b[0;32m--> 150\u001b[0m \u001b[38;5;28;01mreturn\u001b[39;00m \u001b[43mmne\u001b[49m\u001b[38;5;241;43m.\u001b[39;49m\u001b[43mviz\u001b[49m\u001b[38;5;241;43m.\u001b[39;49m\u001b[43mplot_compare_evokeds\u001b[49m\u001b[43m(\u001b[49m\n\u001b[1;32m    151\u001b[0m \u001b[43m    \u001b[49m\u001b[43mgrand_avgs\u001b[49m\u001b[43m,\u001b[49m\n\u001b[1;32m    152\u001b[0m \u001b[43m    \u001b[49m\u001b[43mcombine\u001b[49m\u001b[38;5;241;43m=\u001b[39;49m\u001b[38;5;124;43m\"\u001b[39;49m\u001b[38;5;124;43mmean\u001b[39;49m\u001b[38;5;124;43m\"\u001b[39;49m\u001b[43m,\u001b[49m\u001b[43m \u001b[49m\u001b[38;5;66;43;03m# average erp across channels\u001b[39;49;00m\n\u001b[1;32m    153\u001b[0m \u001b[43m    \u001b[49m\u001b[43mpicks\u001b[49m\u001b[38;5;241;43m=\u001b[39;49m\u001b[38;5;124;43m\"\u001b[39;49m\u001b[38;5;124;43mFCz\u001b[39;49m\u001b[38;5;124;43m\"\u001b[39;49m\u001b[43m,\u001b[49m\u001b[43m \u001b[49m\u001b[38;5;66;43;03m# if we want to see only FCz\u001b[39;49;00m\n\u001b[1;32m    154\u001b[0m \u001b[43m    \u001b[49m\u001b[43mcolors\u001b[49m\u001b[38;5;241;43m=\u001b[39;49m\u001b[43mcolors\u001b[49m\u001b[43m,\u001b[49m\n\u001b[1;32m    155\u001b[0m \u001b[43m    \u001b[49m\u001b[43mlinestyles\u001b[49m\u001b[38;5;241;43m=\u001b[39;49m\u001b[43mlinestyles\u001b[49m\u001b[43m,\u001b[49m\n\u001b[1;32m    156\u001b[0m \u001b[43m    \u001b[49m\u001b[43mylim\u001b[49m\u001b[38;5;241;43m=\u001b[39;49m\u001b[38;5;28;43mdict\u001b[39;49m\u001b[43m(\u001b[49m\u001b[43meeg\u001b[49m\u001b[38;5;241;43m=\u001b[39;49m\u001b[43m[\u001b[49m\u001b[38;5;241;43m-\u001b[39;49m\u001b[38;5;241;43m5\u001b[39;49m\u001b[43m,\u001b[49m\u001b[43m \u001b[49m\u001b[38;5;241;43m20\u001b[39;49m\u001b[43m]\u001b[49m\u001b[43m)\u001b[49m\u001b[43m,\u001b[49m\n\u001b[1;32m    157\u001b[0m \u001b[43m    \u001b[49m\u001b[43mtitle\u001b[49m\u001b[38;5;241;43m=\u001b[39;49m\u001b[43m(\u001b[49m\u001b[38;5;124;43m'\u001b[39;49m\u001b[38;5;124;43msub: \u001b[39;49m\u001b[38;5;124;43m'\u001b[39;49m\u001b[43m,\u001b[49m\u001b[43msub_list\u001b[49m\u001b[43m)\u001b[49m\u001b[43m,\u001b[49m\n\u001b[1;32m    158\u001b[0m \u001b[43m    \u001b[49m\u001b[43mtime_unit\u001b[49m\u001b[38;5;241;43m=\u001b[39;49m\u001b[38;5;124;43m\"\u001b[39;49m\u001b[38;5;124;43mms\u001b[39;49m\u001b[38;5;124;43m\"\u001b[39;49m\u001b[43m,\u001b[49m\n\u001b[1;32m    159\u001b[0m \u001b[43m\u001b[49m\u001b[43m)\u001b[49m\n",
      "File \u001b[0;32m~/.local/lib/python3.10/site-packages/mne/viz/evoked.py:3000\u001b[0m, in \u001b[0;36mplot_compare_evokeds\u001b[0;34m(evokeds, picks, colors, linestyles, styles, cmap, vlines, ci, truncate_yaxis, truncate_xaxis, ylim, invert_y, show_sensors, legend, split_legend, axes, title, show, combine, sphere, time_unit)\u001b[0m\n\u001b[1;32m   2988\u001b[0m     \u001b[38;5;28;01mreturn\u001b[39;00m figs\n\u001b[1;32m   2990\u001b[0m \u001b[38;5;66;03m# colors and colormap. This yields a `styles` dict with one entry per\u001b[39;00m\n\u001b[1;32m   2991\u001b[0m \u001b[38;5;66;03m# condition, specifying at least color and linestyle. THIS MUST BE DONE\u001b[39;00m\n\u001b[1;32m   2992\u001b[0m \u001b[38;5;66;03m# AFTER THE \"MULTIPLE CHANNEL TYPES\" LOOP\u001b[39;00m\n\u001b[1;32m   2993\u001b[0m (\n\u001b[1;32m   2994\u001b[0m     _styles,\n\u001b[1;32m   2995\u001b[0m     _linestyles,\n\u001b[1;32m   2996\u001b[0m     _colors,\n\u001b[1;32m   2997\u001b[0m     _cmap,\n\u001b[1;32m   2998\u001b[0m     colorbar_title,\n\u001b[1;32m   2999\u001b[0m     colorbar_ticks,\n\u001b[0;32m-> 3000\u001b[0m ) \u001b[38;5;241m=\u001b[39m \u001b[43m_handle_styles_pce\u001b[49m\u001b[43m(\u001b[49m\u001b[43mstyles\u001b[49m\u001b[43m,\u001b[49m\u001b[43m \u001b[49m\u001b[43mlinestyles\u001b[49m\u001b[43m,\u001b[49m\u001b[43m \u001b[49m\u001b[43mcolors\u001b[49m\u001b[43m,\u001b[49m\u001b[43m \u001b[49m\u001b[43mcmap\u001b[49m\u001b[43m,\u001b[49m\u001b[43m \u001b[49m\u001b[43mconditions\u001b[49m\u001b[43m)\u001b[49m\n\u001b[1;32m   3001\u001b[0m \u001b[38;5;66;03m# From now on there is only 1 channel type\u001b[39;00m\n\u001b[1;32m   3002\u001b[0m \u001b[38;5;28;01massert\u001b[39;00m \u001b[38;5;28mlen\u001b[39m(ch_types) \u001b[38;5;241m==\u001b[39m \u001b[38;5;241m1\u001b[39m\n",
      "File \u001b[0;32m~/.local/lib/python3.10/site-packages/mne/viz/evoked.py:2296\u001b[0m, in \u001b[0;36m_handle_styles_pce\u001b[0;34m(styles, linestyles, colors, cmap, conditions)\u001b[0m\n\u001b[1;32m   2294\u001b[0m styles \u001b[38;5;241m=\u001b[39m _validate_style_keys_pce(styles, conditions, tags)\n\u001b[1;32m   2295\u001b[0m \u001b[38;5;66;03m# validate color dict\u001b[39;00m\n\u001b[0;32m-> 2296\u001b[0m colors, color_vals \u001b[38;5;241m=\u001b[39m \u001b[43m_validate_colors_pce\u001b[49m\u001b[43m(\u001b[49m\u001b[43mcolors\u001b[49m\u001b[43m,\u001b[49m\u001b[43m \u001b[49m\u001b[43mcmap\u001b[49m\u001b[43m,\u001b[49m\u001b[43m \u001b[49m\u001b[43mconditions\u001b[49m\u001b[43m,\u001b[49m\u001b[43m \u001b[49m\u001b[43mtags\u001b[49m\u001b[43m)\u001b[49m\n\u001b[1;32m   2297\u001b[0m all_int \u001b[38;5;241m=\u001b[39m \u001b[38;5;28mall\u001b[39m([\u001b[38;5;28misinstance\u001b[39m(_color, Integral) \u001b[38;5;28;01mfor\u001b[39;00m _color \u001b[38;5;129;01min\u001b[39;00m color_vals])\n\u001b[1;32m   2298\u001b[0m \u001b[38;5;66;03m# instantiate cmap\u001b[39;00m\n",
      "File \u001b[0;32m~/.local/lib/python3.10/site-packages/mne/viz/evoked.py:2165\u001b[0m, in \u001b[0;36m_validate_colors_pce\u001b[0;34m(colors, cmap, conditions, tags)\u001b[0m\n\u001b[1;32m   2163\u001b[0m \u001b[38;5;66;03m# validate color dict keys\u001b[39;00m\n\u001b[1;32m   2164\u001b[0m \u001b[38;5;28;01mif\u001b[39;00m \u001b[38;5;129;01mnot\u001b[39;00m \u001b[38;5;28mset\u001b[39m(colors)\u001b[38;5;241m.\u001b[39missubset(tags\u001b[38;5;241m.\u001b[39munion(conditions)):\n\u001b[0;32m-> 2165\u001b[0m     \u001b[38;5;28;01mraise\u001b[39;00m \u001b[38;5;167;01mValueError\u001b[39;00m(\n\u001b[1;32m   2166\u001b[0m         \u001b[38;5;124m'\u001b[39m\u001b[38;5;124mIf \u001b[39m\u001b[38;5;124m\"\u001b[39m\u001b[38;5;124mcolors\u001b[39m\u001b[38;5;124m\"\u001b[39m\u001b[38;5;124m is a dict its keys (\u001b[39m\u001b[38;5;132;01m{}\u001b[39;00m\u001b[38;5;124m) must \u001b[39m\u001b[38;5;124m'\u001b[39m\n\u001b[1;32m   2167\u001b[0m         \u001b[38;5;124m'\u001b[39m\u001b[38;5;124mmatch the keys/conditions in \u001b[39m\u001b[38;5;124m\"\u001b[39m\u001b[38;5;124mevokeds\u001b[39m\u001b[38;5;124m\"\u001b[39m\u001b[38;5;124m (\u001b[39m\u001b[38;5;132;01m{}\u001b[39;00m\u001b[38;5;124m).\u001b[39m\u001b[38;5;124m'\u001b[39m\u001b[38;5;241m.\u001b[39mformat(\n\u001b[1;32m   2168\u001b[0m             \u001b[38;5;28mlist\u001b[39m(colors), conditions\n\u001b[1;32m   2169\u001b[0m         )\n\u001b[1;32m   2170\u001b[0m     )\n\u001b[1;32m   2171\u001b[0m \u001b[38;5;66;03m# validate color dict values\u001b[39;00m\n\u001b[1;32m   2172\u001b[0m color_vals \u001b[38;5;241m=\u001b[39m \u001b[38;5;28mlist\u001b[39m(colors\u001b[38;5;241m.\u001b[39mvalues())\n",
      "\u001b[0;31mValueError\u001b[0m: If \"colors\" is a dict its keys (['Stimulus/S  6', 'Stimulus/S  7']) must match the keys/conditions in \"evokeds\" (['Stimulus/S  6'])."
     ]
    }
   ],
   "source": [
    "from utils import *\n",
    "%matplotlib qt\n",
    "\n",
    "fig_conditions = plot_avg_evokeds(\n",
    "    sub_list=[\"27\",\"28\",\"29\",\"30\",\"31\",\"32\",\"33\",\"34\",\"35\",\"36\",\"37\",\"38\"],\n",
    "    cond_list=[ \n",
    "        'Win LL',\n",
    "        'Loss LL',\n",
    "        'Win ML',\n",
    "        'Loss ML',\n",
    "        'Win MH',\n",
    "        'Loss MH',\n",
    "        'Win HH',\n",
    "        'Loss HH'\n",
    "    ],\n",
    "    colors={'Win LL':'r',\n",
    "         'Win ML':'r',\n",
    "         'Win MH':'r',\n",
    "         'Win HH':'r',\n",
    "         'Loss LL':'b',\n",
    "         'Loss ML':'b',\n",
    "         'Loss MH':'b',\n",
    "         'Loss HH':'b'},\n",
    "    linestyles={'Win LL':'solid',\n",
    "         'Win ML':'dashed',\n",
    "         'Win MH':'dashdot',\n",
    "         'Win HH':'dotted',\n",
    "         'Loss LL':'solid',\n",
    "         'Loss ML':'dashed',\n",
    "         'Loss MH':'dashdot',\n",
    "         'Loss HH':'dotted'}\n",
    "    )\n",
    "\n",
    "fig_contrasts = plot_avg_evokeds(\n",
    "    sub_list=[\"27\",\"28\",\"29\",\"30\",\"31\",\"32\",\"33\",\"34\",\"35\",\"36\",\"37\",\"38\"],\n",
    "    cond_list=[ \n",
    "        'Win LL',\n",
    "        'Loss LL',\n",
    "        'Win ML',\n",
    "        'Loss ML',\n",
    "        'Win MH',\n",
    "        'Loss MH',\n",
    "        'Win HH',\n",
    "        'Loss HH'\n",
    "    ],\n",
    "    colors=['#EE82EE','#EE82EE','#a020f0','#a020f0'],\n",
    "    linestyles=['solid','dashed','dotted','dashdot']\n",
    "    )\n",
    "\n",
    "# fig_conditions = plot_avg_evokeds(\n",
    "#     sub_list=[\"27\",\"28\",\"29\",\"30\",\"31\",\"32\",\"33\",\"34\",\"35\",\"36\",\"37\",\"38\"],\n",
    "#     cond_list=[ \n",
    "#         'Stimulus/S  6',\n",
    "#         'Stimulus/S  7'\n",
    "#     ],\n",
    "#     colors={'Stimulus/S  6':'r',\n",
    "#          'Stimulus/S  7':'b'},\n",
    "#     linestyles={'Stimulus/S  6':'solid',\n",
    "#          'Stimulus/S  7':'dotted'}\n",
    "#     )"
   ]
  },
  {
   "cell_type": "code",
   "execution_count": null,
   "metadata": {},
   "outputs": [],
   "source": []
  }
 ],
 "metadata": {
  "kernelspec": {
   "display_name": "Python 3 (ipykernel)",
   "language": "python",
   "name": "python3"
  },
  "language_info": {
   "codemirror_mode": {
    "name": "ipython",
    "version": 3
   },
   "file_extension": ".py",
   "mimetype": "text/x-python",
   "name": "python",
   "nbconvert_exporter": "python",
   "pygments_lexer": "ipython3",
   "version": "3.10.12"
  }
 },
 "nbformat": 4,
 "nbformat_minor": 4
}
