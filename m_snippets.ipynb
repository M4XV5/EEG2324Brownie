{
 "cells": [
  {
   "cell_type": "code",
   "execution_count": null,
   "metadata": {},
   "outputs": [],
   "source": [
    "import os\n",
    "import numpy as np\n",
    "import mne\n",
    "%matplotlib qt\n",
    "import matplotlib\n",
    "import matplotlib.pyplot as plt\n",
    "\n"
   ]
  },
  {
   "cell_type": "code",
   "execution_count": null,
   "metadata": {
    "scrolled": true
   },
   "outputs": [],
   "source": [
    "from mne_bids import (BIDSPath,read_raw_bids)\n",
    "bids_root = \"Dataset/ds004147-filtered\"\n",
    "\n",
    "bids_path = BIDSPath(task=\"casinos\",\n",
    "                     datatype='eeg', suffix='eeg',\n",
    "                     root=bids_root)"
   ]
  },
  {
   "cell_type": "markdown",
   "metadata": {},
   "source": [
    "# win/loss waveforms plot"
   ]
  },
  {
   "cell_type": "code",
   "execution_count": null,
   "metadata": {},
   "outputs": [],
   "source": [
    "# evoked - loading and grand averages + plotting\n",
    "\n",
    "derivs_path = bids_root+\"/derivatives/mne-bids-pipeline/\"#\"Dataset/ds004147-filtered-update/\"\n",
    "\n",
    "evoked_ave_all = []\n",
    "\n",
    "# contrasts between win and loss for each task-cue combination\n",
    "cond_list = [ \n",
    "    'Win LL',\n",
    "    'Loss LL',\n",
    "    'Win ML',\n",
    "    'Loss ML',\n",
    "    'Win MH',\n",
    "    'Loss MH',\n",
    "    'Win HH',\n",
    "    'Loss HH'\n",
    "]\n",
    "\n",
    "sub_list = [\"27\",\"28\",\"29\",\"30\",\"31\",\"32\",\"33\",\"34\",\"35\",\"36\",\"37\",\"38\"]\n",
    "grand_avgs = []\n",
    "\n",
    "# for each condition (task-cue combination), create a list of evoked responses across all subjects and then average\n",
    "for i in range(0,len(cond_list)):\n",
    "    for sub in sub_list:\n",
    "        evoked_ave_all.append([])\n",
    "        evoked_ave_all[i].append(mne.Evoked(derivs_path+\"sub-\"+sub+\"/eeg/sub-\"+sub+\"_task-casinos_ave.fif\",proj=False,verbose=False,condition=cond_list[i]))\n",
    "    \n",
    "    # for this condition, average across subjects\n",
    "    grand_avgs.append(mne.grand_average(evoked_ave_all[i])) \n",
    "\n",
    "    # name of the condition/difference curve, so that it shows up in the plot\n",
    "    grand_avgs[i].comment=cond_list[i] \n",
    "\n",
    "mne.viz.plot_compare_evokeds(\n",
    "    grand_avgs,\n",
    "    combine=\"mean\", # average erp across channels\n",
    "    picks=\"FCz\", # if we want to see only FCz\n",
    "    colors=\n",
    "         {'Win LL':'r',\n",
    "         'Win ML':'r',\n",
    "         'Win MH':'r',\n",
    "         'Win HH':'r',\n",
    "         'Loss LL':'b',\n",
    "         'Loss ML':'b',\n",
    "         'Loss MH':'b',\n",
    "         'Loss HH':'b'},\n",
    "    linestyles=\n",
    "         {'Win LL':'solid',\n",
    "         'Win ML':'dashed',\n",
    "         'Win MH':'dashdot',\n",
    "         'Win HH':'dotted',\n",
    "         'Loss LL':'solid',\n",
    "         'Loss ML':'dashed',\n",
    "         'Loss MH':'dashdot',\n",
    "         'Loss HH':'dotted'},\n",
    "    ylim=dict(eeg=[-5, 20]),\n",
    "    title=('sub: ',sub_list),\n",
    "    time_unit=\"ms\",\n",
    ")"
   ]
  },
  {
   "cell_type": "markdown",
   "metadata": {},
   "source": [
    "# difference waveforms plot"
   ]
  },
  {
   "cell_type": "code",
   "execution_count": null,
   "metadata": {},
   "outputs": [],
   "source": [
    "# evoked - loading and grand averages + plotting\n",
    "\n",
    "derivs_path = bids_root+\"/derivatives/mne-bids-pipeline/\"#\"Dataset/ds004147-filtered-update/\"\n",
    "\n",
    "evoked_ave_all = []\n",
    "\n",
    "# contrasts between win and loss for each task-cue combination\n",
    "cond_list = [ \n",
    "    'Win LL - Loss LL',\n",
    "    'Win ML - Loss ML',\n",
    "    'Win MH - Loss MH',\n",
    "    'Win HH - Loss HH'\n",
    "]\n",
    "\n",
    "sub_list = [\"27\",\"28\",\"29\",\"30\",\"31\",\"32\",\"33\",\"34\",\"35\",\"36\",\"37\",\"38\"]\n",
    "grand_avgs = []\n",
    "\n",
    "# for each condition (task-cue combination), create a list of evoked responses across all subjects and then average\n",
    "for i in range(0,len(cond_list)):\n",
    "    # print(i)\n",
    "    for sub in sub_list:\n",
    "        evoked_ave_all.append([])\n",
    "        evoked_ave_all[i].append(mne.Evoked(derivs_path+\"sub-\"+sub+\"/eeg/sub-\"+sub+\"_task-casinos_ave.fif\",proj=False,verbose=False,condition=cond_list[i]))\n",
    "    \n",
    "    # for this condition, average across subjects\n",
    "    grand_avgs.append(mne.grand_average(evoked_ave_all[i])) \n",
    "\n",
    "    # name of the condition/difference curve, so that it shows up in the plot\n",
    "    grand_avgs[i].comment=cond_list[i] \n",
    "\n",
    "mne.viz.plot_compare_evokeds(\n",
    "    grand_avgs,\n",
    "    combine=\"mean\", # average erp across channels\n",
    "    picks=\"FCz\", # if we want to see only FCz\n",
    "    colors=['#EE82EE','#EE82EE','#a020f0','#a020f0'],\n",
    "    linestyles=['solid','dashed','dotted','dashdot'],\n",
    "    ylim=dict(eeg=[-5, 10]),\n",
    "    title=('sub: ',sub_list),\n",
    "    time_unit=\"ms\",\n",
    ")"
   ]
  },
  {
   "cell_type": "code",
   "execution_count": 1,
   "metadata": {},
   "outputs": [
    {
     "name": "stderr",
     "output_type": "stream",
     "text": [
      "Warning: Ignoring XDG_SESSION_TYPE=wayland on Gnome. Use QT_QPA_PLATFORM=wayland to run on Wayland anyway.\n"
     ]
    },
    {
     "ename": "ValueError",
     "evalue": "condition \"Win LL\" (average) not found, out of found datasets:\n\"Stimulus/S  6\" (average)\n\"Stimulus/S  7\" (average)\n\"Stimulus/S 16\" (average)\n\"Stimulus/S 17\" (average)\n\"Stimulus/S 26\" (average)\n\"Stimulus/S 27\" (average)\n\"Stimulus/S 36\" (average)\n\"Stimulus/S 37\" (average)\n\"Stimulus/S  6 - Stimulus/S  7\" (average)\n\"Stimulus/S 16 - Stimulus/S 17\" (average)\n\"Stimulus/S 26 - Stimulus/S 27\" (average)\n\"Stimulus/S 36 - Stimulus/S 37\" (average)",
     "output_type": "error",
     "traceback": [
      "\u001b[0;31m---------------------------------------------------------------------------\u001b[0m",
      "\u001b[0;31mValueError\u001b[0m                                Traceback (most recent call last)",
      "Cell \u001b[0;32mIn[1], line 4\u001b[0m\n\u001b[1;32m      1\u001b[0m \u001b[38;5;28;01mfrom\u001b[39;00m \u001b[38;5;21;01mutils\u001b[39;00m \u001b[38;5;28;01mimport\u001b[39;00m \u001b[38;5;241m*\u001b[39m\n\u001b[1;32m      2\u001b[0m get_ipython()\u001b[38;5;241m.\u001b[39mrun_line_magic(\u001b[38;5;124m'\u001b[39m\u001b[38;5;124mmatplotlib\u001b[39m\u001b[38;5;124m'\u001b[39m, \u001b[38;5;124m'\u001b[39m\u001b[38;5;124mqt\u001b[39m\u001b[38;5;124m'\u001b[39m)\n\u001b[0;32m----> 4\u001b[0m fig_conditions \u001b[38;5;241m=\u001b[39m \u001b[43mplot_avg_evokeds\u001b[49m\u001b[43m(\u001b[49m\n\u001b[1;32m      5\u001b[0m \u001b[43m    \u001b[49m\u001b[43msub_list\u001b[49m\u001b[38;5;241;43m=\u001b[39;49m\u001b[43m[\u001b[49m\u001b[38;5;124;43m\"\u001b[39;49m\u001b[38;5;124;43m27\u001b[39;49m\u001b[38;5;124;43m\"\u001b[39;49m\u001b[43m,\u001b[49m\u001b[38;5;124;43m\"\u001b[39;49m\u001b[38;5;124;43m28\u001b[39;49m\u001b[38;5;124;43m\"\u001b[39;49m\u001b[43m,\u001b[49m\u001b[38;5;124;43m\"\u001b[39;49m\u001b[38;5;124;43m29\u001b[39;49m\u001b[38;5;124;43m\"\u001b[39;49m\u001b[43m,\u001b[49m\u001b[38;5;124;43m\"\u001b[39;49m\u001b[38;5;124;43m30\u001b[39;49m\u001b[38;5;124;43m\"\u001b[39;49m\u001b[43m,\u001b[49m\u001b[38;5;124;43m\"\u001b[39;49m\u001b[38;5;124;43m31\u001b[39;49m\u001b[38;5;124;43m\"\u001b[39;49m\u001b[43m,\u001b[49m\u001b[38;5;124;43m\"\u001b[39;49m\u001b[38;5;124;43m32\u001b[39;49m\u001b[38;5;124;43m\"\u001b[39;49m\u001b[43m,\u001b[49m\u001b[38;5;124;43m\"\u001b[39;49m\u001b[38;5;124;43m33\u001b[39;49m\u001b[38;5;124;43m\"\u001b[39;49m\u001b[43m,\u001b[49m\u001b[38;5;124;43m\"\u001b[39;49m\u001b[38;5;124;43m34\u001b[39;49m\u001b[38;5;124;43m\"\u001b[39;49m\u001b[43m,\u001b[49m\u001b[38;5;124;43m\"\u001b[39;49m\u001b[38;5;124;43m35\u001b[39;49m\u001b[38;5;124;43m\"\u001b[39;49m\u001b[43m,\u001b[49m\u001b[38;5;124;43m\"\u001b[39;49m\u001b[38;5;124;43m36\u001b[39;49m\u001b[38;5;124;43m\"\u001b[39;49m\u001b[43m,\u001b[49m\u001b[38;5;124;43m\"\u001b[39;49m\u001b[38;5;124;43m37\u001b[39;49m\u001b[38;5;124;43m\"\u001b[39;49m\u001b[43m,\u001b[49m\u001b[38;5;124;43m\"\u001b[39;49m\u001b[38;5;124;43m38\u001b[39;49m\u001b[38;5;124;43m\"\u001b[39;49m\u001b[43m]\u001b[49m\u001b[43m,\u001b[49m\n\u001b[1;32m      6\u001b[0m \u001b[43m    \u001b[49m\u001b[43mcond_list\u001b[49m\u001b[38;5;241;43m=\u001b[39;49m\u001b[43m[\u001b[49m\u001b[43m \u001b[49m\n\u001b[1;32m      7\u001b[0m \u001b[43m        \u001b[49m\u001b[38;5;124;43m'\u001b[39;49m\u001b[38;5;124;43mWin LL\u001b[39;49m\u001b[38;5;124;43m'\u001b[39;49m\u001b[43m,\u001b[49m\n\u001b[1;32m      8\u001b[0m \u001b[43m        \u001b[49m\u001b[38;5;124;43m'\u001b[39;49m\u001b[38;5;124;43mLoss LL\u001b[39;49m\u001b[38;5;124;43m'\u001b[39;49m\u001b[43m,\u001b[49m\n\u001b[1;32m      9\u001b[0m \u001b[43m        \u001b[49m\u001b[38;5;124;43m'\u001b[39;49m\u001b[38;5;124;43mWin ML\u001b[39;49m\u001b[38;5;124;43m'\u001b[39;49m\u001b[43m,\u001b[49m\n\u001b[1;32m     10\u001b[0m \u001b[43m        \u001b[49m\u001b[38;5;124;43m'\u001b[39;49m\u001b[38;5;124;43mLoss ML\u001b[39;49m\u001b[38;5;124;43m'\u001b[39;49m\u001b[43m,\u001b[49m\n\u001b[1;32m     11\u001b[0m \u001b[43m        \u001b[49m\u001b[38;5;124;43m'\u001b[39;49m\u001b[38;5;124;43mWin MH\u001b[39;49m\u001b[38;5;124;43m'\u001b[39;49m\u001b[43m,\u001b[49m\n\u001b[1;32m     12\u001b[0m \u001b[43m        \u001b[49m\u001b[38;5;124;43m'\u001b[39;49m\u001b[38;5;124;43mLoss MH\u001b[39;49m\u001b[38;5;124;43m'\u001b[39;49m\u001b[43m,\u001b[49m\n\u001b[1;32m     13\u001b[0m \u001b[43m        \u001b[49m\u001b[38;5;124;43m'\u001b[39;49m\u001b[38;5;124;43mWin HH\u001b[39;49m\u001b[38;5;124;43m'\u001b[39;49m\u001b[43m,\u001b[49m\n\u001b[1;32m     14\u001b[0m \u001b[43m        \u001b[49m\u001b[38;5;124;43m'\u001b[39;49m\u001b[38;5;124;43mLoss HH\u001b[39;49m\u001b[38;5;124;43m'\u001b[39;49m\n\u001b[1;32m     15\u001b[0m \u001b[43m    \u001b[49m\u001b[43m]\u001b[49m\u001b[43m,\u001b[49m\n\u001b[1;32m     16\u001b[0m \u001b[43m    \u001b[49m\u001b[43mcolors\u001b[49m\u001b[38;5;241;43m=\u001b[39;49m\u001b[43m{\u001b[49m\u001b[38;5;124;43m'\u001b[39;49m\u001b[38;5;124;43mWin LL\u001b[39;49m\u001b[38;5;124;43m'\u001b[39;49m\u001b[43m:\u001b[49m\u001b[38;5;124;43m'\u001b[39;49m\u001b[38;5;124;43mr\u001b[39;49m\u001b[38;5;124;43m'\u001b[39;49m\u001b[43m,\u001b[49m\n\u001b[1;32m     17\u001b[0m \u001b[43m         \u001b[49m\u001b[38;5;124;43m'\u001b[39;49m\u001b[38;5;124;43mWin ML\u001b[39;49m\u001b[38;5;124;43m'\u001b[39;49m\u001b[43m:\u001b[49m\u001b[38;5;124;43m'\u001b[39;49m\u001b[38;5;124;43mr\u001b[39;49m\u001b[38;5;124;43m'\u001b[39;49m\u001b[43m,\u001b[49m\n\u001b[1;32m     18\u001b[0m \u001b[43m         \u001b[49m\u001b[38;5;124;43m'\u001b[39;49m\u001b[38;5;124;43mWin MH\u001b[39;49m\u001b[38;5;124;43m'\u001b[39;49m\u001b[43m:\u001b[49m\u001b[38;5;124;43m'\u001b[39;49m\u001b[38;5;124;43mr\u001b[39;49m\u001b[38;5;124;43m'\u001b[39;49m\u001b[43m,\u001b[49m\n\u001b[1;32m     19\u001b[0m \u001b[43m         \u001b[49m\u001b[38;5;124;43m'\u001b[39;49m\u001b[38;5;124;43mWin HH\u001b[39;49m\u001b[38;5;124;43m'\u001b[39;49m\u001b[43m:\u001b[49m\u001b[38;5;124;43m'\u001b[39;49m\u001b[38;5;124;43mr\u001b[39;49m\u001b[38;5;124;43m'\u001b[39;49m\u001b[43m,\u001b[49m\n\u001b[1;32m     20\u001b[0m \u001b[43m         \u001b[49m\u001b[38;5;124;43m'\u001b[39;49m\u001b[38;5;124;43mLoss LL\u001b[39;49m\u001b[38;5;124;43m'\u001b[39;49m\u001b[43m:\u001b[49m\u001b[38;5;124;43m'\u001b[39;49m\u001b[38;5;124;43mb\u001b[39;49m\u001b[38;5;124;43m'\u001b[39;49m\u001b[43m,\u001b[49m\n\u001b[1;32m     21\u001b[0m \u001b[43m         \u001b[49m\u001b[38;5;124;43m'\u001b[39;49m\u001b[38;5;124;43mLoss ML\u001b[39;49m\u001b[38;5;124;43m'\u001b[39;49m\u001b[43m:\u001b[49m\u001b[38;5;124;43m'\u001b[39;49m\u001b[38;5;124;43mb\u001b[39;49m\u001b[38;5;124;43m'\u001b[39;49m\u001b[43m,\u001b[49m\n\u001b[1;32m     22\u001b[0m \u001b[43m         \u001b[49m\u001b[38;5;124;43m'\u001b[39;49m\u001b[38;5;124;43mLoss MH\u001b[39;49m\u001b[38;5;124;43m'\u001b[39;49m\u001b[43m:\u001b[49m\u001b[38;5;124;43m'\u001b[39;49m\u001b[38;5;124;43mb\u001b[39;49m\u001b[38;5;124;43m'\u001b[39;49m\u001b[43m,\u001b[49m\n\u001b[1;32m     23\u001b[0m \u001b[43m         \u001b[49m\u001b[38;5;124;43m'\u001b[39;49m\u001b[38;5;124;43mLoss HH\u001b[39;49m\u001b[38;5;124;43m'\u001b[39;49m\u001b[43m:\u001b[49m\u001b[38;5;124;43m'\u001b[39;49m\u001b[38;5;124;43mb\u001b[39;49m\u001b[38;5;124;43m'\u001b[39;49m\u001b[43m}\u001b[49m\u001b[43m,\u001b[49m\n\u001b[1;32m     24\u001b[0m \u001b[43m    \u001b[49m\u001b[43mlinestyles\u001b[49m\u001b[38;5;241;43m=\u001b[39;49m\u001b[43m{\u001b[49m\u001b[38;5;124;43m'\u001b[39;49m\u001b[38;5;124;43mWin LL\u001b[39;49m\u001b[38;5;124;43m'\u001b[39;49m\u001b[43m:\u001b[49m\u001b[38;5;124;43m'\u001b[39;49m\u001b[38;5;124;43msolid\u001b[39;49m\u001b[38;5;124;43m'\u001b[39;49m\u001b[43m,\u001b[49m\n\u001b[1;32m     25\u001b[0m \u001b[43m         \u001b[49m\u001b[38;5;124;43m'\u001b[39;49m\u001b[38;5;124;43mWin ML\u001b[39;49m\u001b[38;5;124;43m'\u001b[39;49m\u001b[43m:\u001b[49m\u001b[38;5;124;43m'\u001b[39;49m\u001b[38;5;124;43mdashed\u001b[39;49m\u001b[38;5;124;43m'\u001b[39;49m\u001b[43m,\u001b[49m\n\u001b[1;32m     26\u001b[0m \u001b[43m         \u001b[49m\u001b[38;5;124;43m'\u001b[39;49m\u001b[38;5;124;43mWin MH\u001b[39;49m\u001b[38;5;124;43m'\u001b[39;49m\u001b[43m:\u001b[49m\u001b[38;5;124;43m'\u001b[39;49m\u001b[38;5;124;43mdashdot\u001b[39;49m\u001b[38;5;124;43m'\u001b[39;49m\u001b[43m,\u001b[49m\n\u001b[1;32m     27\u001b[0m \u001b[43m         \u001b[49m\u001b[38;5;124;43m'\u001b[39;49m\u001b[38;5;124;43mWin HH\u001b[39;49m\u001b[38;5;124;43m'\u001b[39;49m\u001b[43m:\u001b[49m\u001b[38;5;124;43m'\u001b[39;49m\u001b[38;5;124;43mdotted\u001b[39;49m\u001b[38;5;124;43m'\u001b[39;49m\u001b[43m,\u001b[49m\n\u001b[1;32m     28\u001b[0m \u001b[43m         \u001b[49m\u001b[38;5;124;43m'\u001b[39;49m\u001b[38;5;124;43mLoss LL\u001b[39;49m\u001b[38;5;124;43m'\u001b[39;49m\u001b[43m:\u001b[49m\u001b[38;5;124;43m'\u001b[39;49m\u001b[38;5;124;43msolid\u001b[39;49m\u001b[38;5;124;43m'\u001b[39;49m\u001b[43m,\u001b[49m\n\u001b[1;32m     29\u001b[0m \u001b[43m         \u001b[49m\u001b[38;5;124;43m'\u001b[39;49m\u001b[38;5;124;43mLoss ML\u001b[39;49m\u001b[38;5;124;43m'\u001b[39;49m\u001b[43m:\u001b[49m\u001b[38;5;124;43m'\u001b[39;49m\u001b[38;5;124;43mdashed\u001b[39;49m\u001b[38;5;124;43m'\u001b[39;49m\u001b[43m,\u001b[49m\n\u001b[1;32m     30\u001b[0m \u001b[43m         \u001b[49m\u001b[38;5;124;43m'\u001b[39;49m\u001b[38;5;124;43mLoss MH\u001b[39;49m\u001b[38;5;124;43m'\u001b[39;49m\u001b[43m:\u001b[49m\u001b[38;5;124;43m'\u001b[39;49m\u001b[38;5;124;43mdashdot\u001b[39;49m\u001b[38;5;124;43m'\u001b[39;49m\u001b[43m,\u001b[49m\n\u001b[1;32m     31\u001b[0m \u001b[43m         \u001b[49m\u001b[38;5;124;43m'\u001b[39;49m\u001b[38;5;124;43mLoss HH\u001b[39;49m\u001b[38;5;124;43m'\u001b[39;49m\u001b[43m:\u001b[49m\u001b[38;5;124;43m'\u001b[39;49m\u001b[38;5;124;43mdotted\u001b[39;49m\u001b[38;5;124;43m'\u001b[39;49m\u001b[43m}\u001b[49m\n\u001b[1;32m     32\u001b[0m \u001b[43m    \u001b[49m\u001b[43m)\u001b[49m\n\u001b[1;32m     34\u001b[0m fig_contrasts \u001b[38;5;241m=\u001b[39m plot_avg_evokeds(\n\u001b[1;32m     35\u001b[0m     sub_list\u001b[38;5;241m=\u001b[39m[\u001b[38;5;124m\"\u001b[39m\u001b[38;5;124m27\u001b[39m\u001b[38;5;124m\"\u001b[39m,\u001b[38;5;124m\"\u001b[39m\u001b[38;5;124m28\u001b[39m\u001b[38;5;124m\"\u001b[39m,\u001b[38;5;124m\"\u001b[39m\u001b[38;5;124m29\u001b[39m\u001b[38;5;124m\"\u001b[39m,\u001b[38;5;124m\"\u001b[39m\u001b[38;5;124m30\u001b[39m\u001b[38;5;124m\"\u001b[39m,\u001b[38;5;124m\"\u001b[39m\u001b[38;5;124m31\u001b[39m\u001b[38;5;124m\"\u001b[39m,\u001b[38;5;124m\"\u001b[39m\u001b[38;5;124m32\u001b[39m\u001b[38;5;124m\"\u001b[39m,\u001b[38;5;124m\"\u001b[39m\u001b[38;5;124m33\u001b[39m\u001b[38;5;124m\"\u001b[39m,\u001b[38;5;124m\"\u001b[39m\u001b[38;5;124m34\u001b[39m\u001b[38;5;124m\"\u001b[39m,\u001b[38;5;124m\"\u001b[39m\u001b[38;5;124m35\u001b[39m\u001b[38;5;124m\"\u001b[39m,\u001b[38;5;124m\"\u001b[39m\u001b[38;5;124m36\u001b[39m\u001b[38;5;124m\"\u001b[39m,\u001b[38;5;124m\"\u001b[39m\u001b[38;5;124m37\u001b[39m\u001b[38;5;124m\"\u001b[39m,\u001b[38;5;124m\"\u001b[39m\u001b[38;5;124m38\u001b[39m\u001b[38;5;124m\"\u001b[39m],\n\u001b[1;32m     36\u001b[0m     cond_list\u001b[38;5;241m=\u001b[39m[ \n\u001b[0;32m   (...)\u001b[0m\n\u001b[1;32m     47\u001b[0m     linestyles\u001b[38;5;241m=\u001b[39m[\u001b[38;5;124m'\u001b[39m\u001b[38;5;124msolid\u001b[39m\u001b[38;5;124m'\u001b[39m,\u001b[38;5;124m'\u001b[39m\u001b[38;5;124mdashed\u001b[39m\u001b[38;5;124m'\u001b[39m,\u001b[38;5;124m'\u001b[39m\u001b[38;5;124mdotted\u001b[39m\u001b[38;5;124m'\u001b[39m,\u001b[38;5;124m'\u001b[39m\u001b[38;5;124mdashdot\u001b[39m\u001b[38;5;124m'\u001b[39m]\n\u001b[1;32m     48\u001b[0m     )\n",
      "File \u001b[0;32m/media/mnk/Delta/AAUniStuttgart/A Sem 3/EEG/EEG2324Brownie/utils.py:142\u001b[0m, in \u001b[0;36mplot_avg_evokeds\u001b[0;34m(sub_list, cond_list, colors, linestyles, bids_root)\u001b[0m\n\u001b[1;32m    140\u001b[0m \u001b[38;5;28;01mfor\u001b[39;00m sub \u001b[38;5;129;01min\u001b[39;00m sub_list:\n\u001b[1;32m    141\u001b[0m     evoked_ave_all\u001b[38;5;241m.\u001b[39mappend([])\n\u001b[0;32m--> 142\u001b[0m     evoked_ave_all[i]\u001b[38;5;241m.\u001b[39mappend(\u001b[43mmne\u001b[49m\u001b[38;5;241;43m.\u001b[39;49m\u001b[43mEvoked\u001b[49m\u001b[43m(\u001b[49m\u001b[43mderivs_path\u001b[49m\u001b[38;5;241;43m+\u001b[39;49m\u001b[38;5;124;43m\"\u001b[39;49m\u001b[38;5;124;43msub-\u001b[39;49m\u001b[38;5;124;43m\"\u001b[39;49m\u001b[38;5;241;43m+\u001b[39;49m\u001b[43msub\u001b[49m\u001b[38;5;241;43m+\u001b[39;49m\u001b[38;5;124;43m\"\u001b[39;49m\u001b[38;5;124;43m/eeg/sub-\u001b[39;49m\u001b[38;5;124;43m\"\u001b[39;49m\u001b[38;5;241;43m+\u001b[39;49m\u001b[43msub\u001b[49m\u001b[38;5;241;43m+\u001b[39;49m\u001b[38;5;124;43m\"\u001b[39;49m\u001b[38;5;124;43m_task-casinos_ave.fif\u001b[39;49m\u001b[38;5;124;43m\"\u001b[39;49m\u001b[43m,\u001b[49m\u001b[43mproj\u001b[49m\u001b[38;5;241;43m=\u001b[39;49m\u001b[38;5;28;43;01mFalse\u001b[39;49;00m\u001b[43m,\u001b[49m\u001b[43mverbose\u001b[49m\u001b[38;5;241;43m=\u001b[39;49m\u001b[38;5;28;43;01mFalse\u001b[39;49;00m\u001b[43m,\u001b[49m\u001b[43mcondition\u001b[49m\u001b[38;5;241;43m=\u001b[39;49m\u001b[43mcond_list\u001b[49m\u001b[43m[\u001b[49m\u001b[43mi\u001b[49m\u001b[43m]\u001b[49m\u001b[43m)\u001b[49m)\n\u001b[1;32m    144\u001b[0m \u001b[38;5;66;03m# for this condition, average across subjects\u001b[39;00m\n\u001b[1;32m    145\u001b[0m grand_avgs\u001b[38;5;241m.\u001b[39mappend(mne\u001b[38;5;241m.\u001b[39mgrand_average(evoked_ave_all[i])) \n",
      "File \u001b[0;32m<decorator-gen-253>:10\u001b[0m, in \u001b[0;36m__init__\u001b[0;34m(self, fname, condition, proj, kind, allow_maxshield, verbose)\u001b[0m\n",
      "File \u001b[0;32m~/.local/lib/python3.10/site-packages/mne/evoked.py:189\u001b[0m, in \u001b[0;36mEvoked.__init__\u001b[0;34m(self, fname, condition, proj, kind, allow_maxshield, verbose)\u001b[0m\n\u001b[1;32m    179\u001b[0m \u001b[38;5;66;03m# Read the requested data\u001b[39;00m\n\u001b[1;32m    180\u001b[0m fname \u001b[38;5;241m=\u001b[39m \u001b[38;5;28mstr\u001b[39m(_check_fname(fname\u001b[38;5;241m=\u001b[39mfname, must_exist\u001b[38;5;241m=\u001b[39m\u001b[38;5;28;01mTrue\u001b[39;00m, overwrite\u001b[38;5;241m=\u001b[39m\u001b[38;5;124m\"\u001b[39m\u001b[38;5;124mread\u001b[39m\u001b[38;5;124m\"\u001b[39m))\n\u001b[1;32m    181\u001b[0m (\n\u001b[1;32m    182\u001b[0m     \u001b[38;5;28mself\u001b[39m\u001b[38;5;241m.\u001b[39minfo,\n\u001b[1;32m    183\u001b[0m     \u001b[38;5;28mself\u001b[39m\u001b[38;5;241m.\u001b[39mnave,\n\u001b[1;32m    184\u001b[0m     \u001b[38;5;28mself\u001b[39m\u001b[38;5;241m.\u001b[39m_aspect_kind,\n\u001b[1;32m    185\u001b[0m     \u001b[38;5;28mself\u001b[39m\u001b[38;5;241m.\u001b[39mcomment,\n\u001b[1;32m    186\u001b[0m     times,\n\u001b[1;32m    187\u001b[0m     \u001b[38;5;28mself\u001b[39m\u001b[38;5;241m.\u001b[39mdata,\n\u001b[1;32m    188\u001b[0m     \u001b[38;5;28mself\u001b[39m\u001b[38;5;241m.\u001b[39mbaseline,\n\u001b[0;32m--> 189\u001b[0m ) \u001b[38;5;241m=\u001b[39m \u001b[43m_read_evoked\u001b[49m\u001b[43m(\u001b[49m\u001b[43mfname\u001b[49m\u001b[43m,\u001b[49m\u001b[43m \u001b[49m\u001b[43mcondition\u001b[49m\u001b[43m,\u001b[49m\u001b[43m \u001b[49m\u001b[43mkind\u001b[49m\u001b[43m,\u001b[49m\u001b[43m \u001b[49m\u001b[43mallow_maxshield\u001b[49m\u001b[43m)\u001b[49m\n\u001b[1;32m    190\u001b[0m \u001b[38;5;28mself\u001b[39m\u001b[38;5;241m.\u001b[39m_set_times(times)\n\u001b[1;32m    191\u001b[0m \u001b[38;5;28mself\u001b[39m\u001b[38;5;241m.\u001b[39m_raw_times \u001b[38;5;241m=\u001b[39m \u001b[38;5;28mself\u001b[39m\u001b[38;5;241m.\u001b[39mtimes\u001b[38;5;241m.\u001b[39mcopy()\n",
      "File \u001b[0;32m~/.local/lib/python3.10/site-packages/mne/evoked.py:1645\u001b[0m, in \u001b[0;36m_read_evoked\u001b[0;34m(fname, condition, kind, allow_maxshield)\u001b[0m\n\u001b[1;32m   1643\u001b[0m     found_cond \u001b[38;5;241m=\u001b[39m np\u001b[38;5;241m.\u001b[39mwhere(goods)[\u001b[38;5;241m0\u001b[39m]\n\u001b[1;32m   1644\u001b[0m     \u001b[38;5;28;01mif\u001b[39;00m \u001b[38;5;28mlen\u001b[39m(found_cond) \u001b[38;5;241m!=\u001b[39m \u001b[38;5;241m1\u001b[39m:\n\u001b[0;32m-> 1645\u001b[0m         \u001b[38;5;28;01mraise\u001b[39;00m \u001b[38;5;167;01mValueError\u001b[39;00m(\n\u001b[1;32m   1646\u001b[0m             \u001b[38;5;124m'\u001b[39m\u001b[38;5;124mcondition \u001b[39m\u001b[38;5;124m\"\u001b[39m\u001b[38;5;132;01m%s\u001b[39;00m\u001b[38;5;124m\"\u001b[39m\u001b[38;5;124m (\u001b[39m\u001b[38;5;132;01m%s\u001b[39;00m\u001b[38;5;124m) not found, out of \u001b[39m\u001b[38;5;124m'\u001b[39m\n\u001b[1;32m   1647\u001b[0m             \u001b[38;5;124m\"\u001b[39m\u001b[38;5;124mfound datasets:\u001b[39m\u001b[38;5;130;01m\\n\u001b[39;00m\u001b[38;5;132;01m%s\u001b[39;00m\u001b[38;5;124m\"\u001b[39m \u001b[38;5;241m%\u001b[39m (condition, kind, t)\n\u001b[1;32m   1648\u001b[0m         )\n\u001b[1;32m   1649\u001b[0m     condition \u001b[38;5;241m=\u001b[39m found_cond[\u001b[38;5;241m0\u001b[39m]\n\u001b[1;32m   1650\u001b[0m \u001b[38;5;28;01melif\u001b[39;00m condition \u001b[38;5;129;01mis\u001b[39;00m \u001b[38;5;28;01mNone\u001b[39;00m:\n",
      "\u001b[0;31mValueError\u001b[0m: condition \"Win LL\" (average) not found, out of found datasets:\n\"Stimulus/S  6\" (average)\n\"Stimulus/S  7\" (average)\n\"Stimulus/S 16\" (average)\n\"Stimulus/S 17\" (average)\n\"Stimulus/S 26\" (average)\n\"Stimulus/S 27\" (average)\n\"Stimulus/S 36\" (average)\n\"Stimulus/S 37\" (average)\n\"Stimulus/S  6 - Stimulus/S  7\" (average)\n\"Stimulus/S 16 - Stimulus/S 17\" (average)\n\"Stimulus/S 26 - Stimulus/S 27\" (average)\n\"Stimulus/S 36 - Stimulus/S 37\" (average)"
     ]
    }
   ],
   "source": [
    "from utils import *\n",
    "%matplotlib qt\n",
    "\n",
    "fig_conditions = plot_avg_evokeds(\n",
    "    sub_list=[\"27\",\"28\",\"29\",\"30\",\"31\",\"32\",\"33\",\"34\",\"35\",\"36\",\"37\",\"38\"],\n",
    "    cond_list=[ \n",
    "        'Win LL',\n",
    "        'Loss LL',\n",
    "        'Win ML',\n",
    "        'Loss ML',\n",
    "        'Win MH',\n",
    "        'Loss MH',\n",
    "        'Win HH',\n",
    "        'Loss HH'\n",
    "    ],\n",
    "    colors={'Win LL':'r',\n",
    "         'Win ML':'r',\n",
    "         'Win MH':'r',\n",
    "         'Win HH':'r',\n",
    "         'Loss LL':'b',\n",
    "         'Loss ML':'b',\n",
    "         'Loss MH':'b',\n",
    "         'Loss HH':'b'},\n",
    "    linestyles={'Win LL':'solid',\n",
    "         'Win ML':'dashed',\n",
    "         'Win MH':'dashdot',\n",
    "         'Win HH':'dotted',\n",
    "         'Loss LL':'solid',\n",
    "         'Loss ML':'dashed',\n",
    "         'Loss MH':'dashdot',\n",
    "         'Loss HH':'dotted'}\n",
    "    )\n",
    "\n",
    "fig_contrasts = plot_avg_evokeds(\n",
    "    sub_list=[\"27\",\"28\",\"29\",\"30\",\"31\",\"32\",\"33\",\"34\",\"35\",\"36\",\"37\",\"38\"],\n",
    "    cond_list=[ \n",
    "        'Win LL',\n",
    "        'Loss LL',\n",
    "        'Win ML',\n",
    "        'Loss ML',\n",
    "        'Win MH',\n",
    "        'Loss MH',\n",
    "        'Win HH',\n",
    "        'Loss HH'\n",
    "    ],\n",
    "    colors=['#EE82EE','#EE82EE','#a020f0','#a020f0'],\n",
    "    linestyles=['solid','dashed','dotted','dashdot']\n",
    "    )"
   ]
  },
  {
   "cell_type": "code",
   "execution_count": null,
   "metadata": {},
   "outputs": [],
   "source": []
  }
 ],
 "metadata": {
  "kernelspec": {
   "display_name": "Python 3 (ipykernel)",
   "language": "python",
   "name": "python3"
  },
  "language_info": {
   "codemirror_mode": {
    "name": "ipython",
    "version": 3
   },
   "file_extension": ".py",
   "mimetype": "text/x-python",
   "name": "python",
   "nbconvert_exporter": "python",
   "pygments_lexer": "ipython3",
   "version": "3.10.12"
  }
 },
 "nbformat": 4,
 "nbformat_minor": 4
}
