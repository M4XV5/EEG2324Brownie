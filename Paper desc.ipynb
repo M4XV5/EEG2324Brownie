{
 "cells": [
  {
   "cell_type": "markdown",
   "id": "7667832e",
   "metadata": {},
   "source": [
    "# Paper:\n",
    "\n",
    "- Data Collection:\n",
    "\t- reaction time (since onset of tone)\n",
    "\t- response (left, right, invalid, none)\n",
    "\t- slot machine info\n",
    "\t- standard 10-20 layout wrt avg reference\n",
    "\t- electrode impendances lowered belom 20 ohm before recording\n",
    "\t- EEG data sampled at 250 Hz and amplified\n",
    "\n",
    "- Data Analysis:\n",
    "\t- for each task (low val, mid val, high val) mean proportions of trials resulting in win were computed\n",
    "\t- for mid and high val: per participant and task, likelyhood of correct response to high val cues computed\n",
    "    - participants with likelyhood < 60% in mid and high val excluded from main analyses (7)\n",
    "    - for vis: sliding window measure of performance in mid and high val: proportion of wins in 30 trials, window moving by 1 trial each time\n",
    "    - EEG anaylzed in MATLAB EEGLAB\n",
    "    - first bandpass filtered (0.1-30 Hz, UVic 60 Hz notch, Oxford 50 Hz notch)\n",
    "    - re-referenced to avg of mastoid signals\n",
    "    - ocular artifacts identified and removed via ICA\n",
    "    - ICA trained on 3 sec epoch starting at presentation cue\n",
    "    - ocular components identified with \"iclabel\" function and removed from continuous data\n",
    "    - all components that are rather eye than brain related via \"iclabel\" were removed\n",
    "- ERP Analysis:\n",
    "    - 800ms epochs around cue appearance of each cue and feedback stimulus (-200 to 600ms)\n",
    "    - checked for remaining artifacts and epochs containing voltage change > 40 nanoV per sample point or overall voltage change > 150 microV across epoch --> excluded from analysis\n",
    "    - excluded first 10 trials of each task (familiarization period)\n",
    "    - then avg over remaining epüochs to create mean cue-locked, win-locked, loss-locked waveforms for each task (low mid high val), cue (low, high val), participant\n",
    "    - quantify RewP: difference wave method: substracting mean loss ERP from corresponding mean win ERP per task and cue\n",
    "    - electrode location and time window examined FCz from 240-340 ms post feedback\n",
    "    - RewP def: max voltage recorded within window per task val, cue val, participant\n",
    "    - mean voltage from 240-340ms at FCz per val cue(low, high), outcome(win, loss), task val(low, mid, high)\n",
    "    - effect sizes comupted with coheds delta comparing similar cue vals and outcomes\n",
    "    \n",
    " \n",
    "\t"
   ]
  }
 ],
 "metadata": {
  "kernelspec": {
   "display_name": "Python 3 (ipykernel)",
   "language": "python",
   "name": "python3"
  },
  "language_info": {
   "codemirror_mode": {
    "name": "ipython",
    "version": 3
   },
   "file_extension": ".py",
   "mimetype": "text/x-python",
   "name": "python",
   "nbconvert_exporter": "python",
   "pygments_lexer": "ipython3",
   "version": "3.11.1"
  }
 },
 "nbformat": 4,
 "nbformat_minor": 5
}
